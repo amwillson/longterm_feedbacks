{
 "cells": [
  {
   "cell_type": "markdown",
   "id": "982a67e5",
   "metadata": {},
   "source": [
    "# Methods\n",
    "\n",
    "Alyssa Willson"
   ]
  },
  {
   "cell_type": "markdown",
   "id": "9ccb407e-505f-4e1a-8bdf-7e548f3b7256",
   "metadata": {},
   "source": [
    "## Outline\n",
    "\n",
    "1. [Objectives](#sectionobjectives)\n",
    "2. [Summary](#sectionsummary)\n",
    "3. [Generalized Joint Attribute Model](#sectiongjam)\n",
    "    - [PLS Data](#sectionplsdata)\n",
    "    - [Environmental Data](#sectionenvdata)\n",
    "    - [\"Effort\"](#sectioneffort)\n",
    "    - [GJAM Drawbacks](#sectiondrawbacks)\n",
    "4. [New Model](#sectionnewmodel)\n",
    "5. [Future Directions](#sectionfuturedirections)"
   ]
  },
  {
   "cell_type": "markdown",
   "id": "00b5a4ed-388a-465f-8f8a-cac9487f1f08",
   "metadata": {},
   "source": [
    "<a id = 'sectionobjectives'></a>"
   ]
  },
  {
   "cell_type": "markdown",
   "id": "c58c48ad-ea1a-4fe3-87c0-ac7a9f75d5b8",
   "metadata": {},
   "source": [
    "## Objectives\n",
    "\n",
    "The immediate objective of this project is to investigate the relationship between the vegetation and the environment of Indiana and Illinois using the Public Land Survey (PLS)record of tree taxon presence and reconstructions of 15 environmental drivers. In so doing, we test the hypothesis that taxon presence is driven by a combination of environmental drivers and taxon covariance (or biotic interactions between taxa).\n",
    "\n",
    "In the longer term, we are interested in using this analysis as the starting point for two projects: (1) comparing the drivers of taxon presence between pre- and post- European settlement periods; annd (2) understanding the role of temporal memory in driving vegetation composition and biomass at different temporal scales."
   ]
  },
  {
   "cell_type": "markdown",
   "id": "cb9d3183-3b92-44ec-b0ad-b3a92dfda158",
   "metadata": {},
   "source": [
    "<a id = 'sectionsummary'></a>"
   ]
  },
  {
   "cell_type": "markdown",
   "id": "c4c5fba0-efd7-4270-a37f-03e1907dd707",
   "metadata": {},
   "source": [
    "## Summary\n",
    "\n",
    "Here, I first describe the use of the Generalized Joint Attribute Model (GJAM) for investigating the vegetation-environmental relationship in Indiana and Illinois with the PLS record. Then, I propose an idea for a new model that addresses some of the shortcomings of GJAM. Finally, I will brielfy expand on the two long-term projects I mentioned above, and explain their connection to the analysis at hand."
   ]
  },
  {
   "cell_type": "markdown",
   "id": "1e03e9be-a0c0-4d78-9477-6bdf58e62f31",
   "metadata": {},
   "source": [
    "<a id = 'sectiongjam'></a>"
   ]
  },
  {
   "cell_type": "markdown",
   "id": "6ba4e882-e8a7-4d39-b5d5-fc378e32840d",
   "metadata": {},
   "source": [
    "## Generalized Joint Attribute Model\n",
    "\n",
    "The Generalized Joint Attribute Model (GJAM) was developed by Jim Clark et al. (2017) as a flexible framework for modeling ecological data. The model's advantages are numerous and include the following:\n",
    "1. Incorporation of multiple classes of response data (e.g., presence/absence, capture/recapture) in a single analysis\n",
    "2. Handling zero-inflated response variables\n",
    "3. Explicit quantification of covariance between response variables (e.g., presence of different taxa)\n",
    "4. Uncertainty specification in a Bayesian framework\n",
    "5. Easy implementation in R\n",
    "\n",
    "These advantages prompted use to use GJAM as a starting place for our analysis."
   ]
  },
  {
   "cell_type": "markdown",
   "id": "69a75607-f969-435e-939d-74669fe05575",
   "metadata": {},
   "source": [
    "<a id = 'sectionplsdata'></a>"
   ]
  },
  {
   "cell_type": "markdown",
   "id": "259d520e-f63b-45d6-8396-d38366e892a3",
   "metadata": {},
   "source": [
    "### PLS Data\n",
    "\n",
    "We used point-level observations from the PLS record; that is, we treated each PLS corner as a point observation. At each point, we recorded the presence or absence of each taxon in the full dataset. Specifcically, we considered a taxon to be present if at least one tree recorded at that corner (maximum 4 trees/corner) was a given taxon. Any tree that was not recorded at the corner was considered absent at the point level. In total, we trained our model on 78,224 observations of 15 taxa. We withheld 24,699 observations for out-of-sample validation. All corners were located within Indiana and Illinois."
   ]
  },
  {
   "cell_type": "markdown",
   "id": "5fa8c721-86ca-461f-8d95-1e7ab850aebe",
   "metadata": {},
   "source": [
    "<a id = 'sectionenvdata'></a>"
   ]
  },
  {
   "cell_type": "markdown",
   "id": "81fea911-245e-484a-9d88-fa89ba3b5e88",
   "metadata": {},
   "source": [
    "### Environmental Data\n",
    "\n",
    "At each corner, we collated data on 12 environmental drivers. The drivers are listed below:\n",
    "\n",
    "| Driver Type | Driver |\n",
    "| ----------- | ------ |\n",
    "| Climate     | Total Precipitation |\n",
    "| Climate     | Mean Temperature |\n",
    "| Soils       | CaCO<sub>3</sub> |\n",
    "| Soils       | Cation Exchange Capacity |\n",
    "| Soils       | Soil % Clay |\n",
    "| Soils       | Soil % Sand |\n",
    "| Soils       | Available Water Content |\n",
    "| Soils       | Hydric Soil Presence (Boolean) |\n",
    "| Soils       | Floodplain Presence (Boolean) |\n",
    "| Topographic | Slope |\n",
    "| Topographic | Aspect |\n",
    "| Topographic | Saga Wetness Index |\n",
    "\n",
    "In all GJAM analyses we also included a random effect of \"management area.\" The management area variable describes the discrete geogrpahic regions within which all corners reside. In total, our training dataset included 15 management areas and our validation dataset included 7 management areas."
   ]
  },
  {
   "cell_type": "markdown",
   "id": "10f48b89-35df-4c0e-95a5-51a8ebdaef5e",
   "metadata": {},
   "source": [
    "<a id = 'sectioneffort'></a>"
   ]
  },
  {
   "cell_type": "markdown",
   "id": "fd1f031c-393d-499c-a63d-0f2260bb5a98",
   "metadata": {},
   "source": [
    "### \"Effort\"\n",
    "\n",
    "GJAM accomplishes the integration of multiple response data types and full covariance between response variables using censoring. The censoring procedure implemented within GJAM requires a variable called \"effort,\" which can be thought of in our application of GJAM as the precision of the point-level observations of the response variables. To define effort, we used the distance from the corner that the land surveyor traveled to record the observed tree. We considered this a proxy for the precision of the observation because it represents the certainty that the tree recorded in the PLS record represents the actual trees at the point-level location of the corner. It is useful to note that it does not appear that our results are particularly sensitive to differences in the specific method of developing the effort variable."
   ]
  },
  {
   "cell_type": "markdown",
   "id": "a4775e3a-80a8-487d-bc51-8952af3c9b1e",
   "metadata": {},
   "source": [
    "<a id = 'sectiondrawbacks'></a>"
   ]
  },
  {
   "cell_type": "markdown",
   "id": "b3e84d34-f578-40e5-9e0f-1495062738c8",
   "metadata": {},
   "source": [
    "### GJAM Drawbacks\n",
    "\n",
    "We successfully implemented GJAM with the PLS data but in so doing identified a number of drawbacks to using GJAM for further research. Specifically,\n",
    "1. The GJAM architecture does not allow for quantifying spatial covariance\n",
    "2. There is no straightforward way to extend GJAM to operate over time (i.e., no dynamic modeling option)\n",
    "3. The large number of operations requried to fit such a flexible model (including the censoring) leads to a relatively long computation time to fit the full model.\n",
    "\n",
    "For these reasons, we are interested in building another model that allows us to incorporate correlations through space and time. With the limited flexibility of this model, we also hope to reduce computation time to be manageable over thousands of years and at the regional spatial scale."
   ]
  },
  {
   "cell_type": "markdown",
   "id": "43bc97f2-c905-41fe-addd-f48ba5e07052",
   "metadata": {},
   "source": [
    "<a id = 'sectionnewmodel'></a>"
   ]
  },
  {
   "cell_type": "markdown",
   "id": "d7ec471e-83b4-4f0e-bc2c-e7c9c677261f",
   "metadata": {},
   "source": [
    "## New Model\n",
    "\n",
    "I have started building a Bayesian hierarchical model that has similar architecture to GJAM. I envision the model working with fractional composition data so that it can be used with the current version of the STEPPS data product. Ideally, the model could be extended to other data types (e.g., continuous biomass) in the future. The objective of the model is to retain the useful features of GJAM (zero-inflation and covariance between response variables). Zero-inflation is important because the majority of taxa are absent in any given grid cell. Covariance between the fraction of each taxon is important because this allows us to identify biotic interactions via correlations that are not a result of similar abiotic niches. In addition, the model should include spatial covariance, which can be accomplished via a distance matrix, and temporal memory, accomplished by using previous time steps as regressors.\n",
    "\n",
    "I have begun by building a Dirichlet regression model but I am very unfamiliar with working with the Dirichlet distribution and have been unable to model $\\boldsymbol{\\alpha}$ as a function of the environment yet. I am actively working on this model now and would appreciate any advice or feedback you can give me."
   ]
  },
  {
   "cell_type": "markdown",
   "id": "598a3d4a-9fa1-4a7a-bf39-59fb1fc73978",
   "metadata": {},
   "source": [
    "<a id = 'sectionfuturedirections'></a>"
   ]
  },
  {
   "cell_type": "markdown",
   "id": "d65a8518-fa18-4c2b-8da4-d82bd6dc32e5",
   "metadata": {},
   "source": [
    "## Future Directions\n",
    "\n",
    "I would like to conclude this document by summarizing some upcoming projects. I would welcome collaboration on these projects if you are interested."
   ]
  },
  {
   "cell_type": "markdown",
   "id": "dc7d4f94-ae64-4e62-b8c9-f5334ee0a99c",
   "metadata": {},
   "source": [
    "<a id = 'sectionfuture1'></a>"
   ]
  },
  {
   "cell_type": "markdown",
   "id": "bb39a4cb-fcc3-4912-b446-e9bdb3402efc",
   "metadata": {},
   "source": [
    "### Comparing pre- and post-European settlement vegetation drivers\n",
    "\n",
    "I am interested in extending our use of the PLS record in Indiana and Illinois to a comparison between the pre- and post-European settlement eras. Specifically, I am interested in how the drives of vegetation communities differ between the two periods. I plan to use the model described above to investigate this question by investigating the magnitude of correlation between taxa in each era, as well as the magnitude of coefficients describing the relationship between vegetation and environmental drivers. For this project, I plan to use landscape-scale data products describing tree composition that I believe you have previously developed at least for the PLS period. This project would differ from Kelly's project by taking a more mechanistic approach to the same question, investigating *how* vegetation acts differently between the two periods, instead of identifying differences in the vegetation structure."
   ]
  },
  {
   "cell_type": "markdown",
   "id": "5b26473e-f439-4c35-8031-2954de85e8f7",
   "metadata": {},
   "source": [
    "<a id = 'sectionfuture2'></a>"
   ]
  },
  {
   "cell_type": "markdown",
   "id": "0f245eae-4615-443b-b284-92e18be904bb",
   "metadata": {
    "jp-MarkdownHeadingCollapsed": true,
    "tags": []
   },
   "source": [
    "### The role of temporal memory\n",
    "\n",
    "Finally, I am interested in understanding the role of temporal memory in driving long-lived vegetation. My hypothesis is that, because forests are long-lived ecosystems, the processes that drive vegetation demography over the long term can only be fully quantified when using data a long time periods. The short-term and space-for-time data that is often used to make predictions about vegetation response to climate change is insufficient to fully understand how vegetation responds to changes in climate over the long term. To investgiate this hypothesis, I will compare forecasts made using the same model, trained with data at three different time scales. The workflow is as follows:\n",
    "1. Develop model. This will be the same model described above\n",
    "2. Fit the model separately with three datasets\n",
    "    - Long-term data: fossil pollen data product (STEPPS)\n",
    "    - Medium-term data: tree ring data products (from PalEON)\n",
    "    - Space-for-time data: satellite hyperspectral data\n",
    "3. Make forecasts ~150 years into the future using model fit to each dataset separately\n",
    "    - Long-term data + model -> 150 year forecast\n",
    "    - Medium-term data + model -> 150 year forecast\n",
    "    - Space-for-time data + model -> 150 year forecast\n",
    "\n",
    "I currently have the fractional composition data product from PalEON and tree ring-derived aboveground biomass from PalEON, which could be extended to fractional composition. I am currently working on developing a regional-scale machine learning algorithm for deriving fractional composition from hyperspectral satellite data, using FIA forest plots as training data.\n",
    "\n",
    "The objective is to investigate differences in the forecasts to demonstrate that the temporal scale of the training data has an impact on the forecast outcome."
   ]
  }
 ],
 "metadata": {
  "kernelspec": {
   "display_name": "Python [conda env:MLenv]",
   "language": "python",
   "name": "conda-env-MLenv-py"
  },
  "language_info": {
   "codemirror_mode": {
    "name": "ipython",
    "version": 3
   },
   "file_extension": ".py",
   "mimetype": "text/x-python",
   "name": "python",
   "nbconvert_exporter": "python",
   "pygments_lexer": "ipython3",
   "version": "3.9.13"
  }
 },
 "nbformat": 4,
 "nbformat_minor": 5
}
